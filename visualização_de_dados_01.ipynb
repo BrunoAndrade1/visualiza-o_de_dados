{
  "nbformat": 4,
  "nbformat_minor": 0,
  "metadata": {
    "colab": {
      "name": "visualização_de_dados_01.ipynb",
      "provenance": [],
      "include_colab_link": true
    },
    "kernelspec": {
      "display_name": "Python 3",
      "language": "python",
      "name": "python3"
    },
    "language_info": {
      "codemirror_mode": {
        "name": "ipython",
        "version": 3
      },
      "file_extension": ".py",
      "mimetype": "text/x-python",
      "name": "python",
      "nbconvert_exporter": "python",
      "pygments_lexer": "ipython3",
      "version": "3.6.5"
    }
  },
  "cells": [
    {
      "cell_type": "markdown",
      "metadata": {
        "id": "view-in-github",
        "colab_type": "text"
      },
      "source": [
        "<a href=\"https://colab.research.google.com/github/BrunoAndrade1/visualiza-o_de_dados/blob/main/visualiza%C3%A7%C3%A3o_de_dados_01.ipynb\" target=\"_parent\"><img src=\"https://colab.research.google.com/assets/colab-badge.svg\" alt=\"Open In Colab\"/></a>"
      ]
    },
    {
      "cell_type": "markdown",
      "metadata": {
        "id": "GgUHLmxk7Ga5"
      },
      "source": [
        "# Minerando Dados  - ** Visualização de Dados **"
      ]
    },
    {
      "cell_type": "markdown",
      "metadata": {
        "id": "t_ak8TC67Ga7"
      },
      "source": [
        "**Trabalhando com Matplotlib**"
      ]
    },
    {
      "cell_type": "markdown",
      "metadata": {
        "id": "quprP4gvB-46"
      },
      "source": [
        "* Ideal para plotagem de gráficos **simples**.\n",
        "* Aumenta a produtividade do Cientista de dados.\n",
        "* Fornece uma interfaçe próxima do Matlab, o que é interessante para gráficos com expressões matemáticas.\n",
        "* A maior desvantagem é o **layout**.\n",
        "\n"
      ]
    },
    {
      "cell_type": "markdown",
      "metadata": {
        "id": "5wwF0C_4Ads6"
      },
      "source": [
        "**Quando utilizar?**\n",
        "\n",
        "* Útil para análise e exploração de dados."
      ]
    },
    {
      "cell_type": "markdown",
      "metadata": {
        "id": "NwOJiIGaAyO5"
      },
      "source": [
        "**Instalação da Biblioteca**"
      ]
    },
    {
      "cell_type": "markdown",
      "metadata": {
        "id": "AI3FfbTs7Ga8"
      },
      "source": [
        "* Caso não esteja usando anaconda instale o matplotlib com o gerenciador de pacotes pip ou usando o conda. Exemplo:"
      ]
    },
    {
      "cell_type": "code",
      "metadata": {
        "id": "jkgomcoe7Ga9"
      },
      "source": [
        "!pip install matplotlib"
      ],
      "execution_count": null,
      "outputs": []
    },
    {
      "cell_type": "code",
      "metadata": {
        "id": "__v7nqAT7GbB"
      },
      "source": [
        "!conda install matplotlib"
      ],
      "execution_count": null,
      "outputs": []
    },
    {
      "cell_type": "code",
      "metadata": {
        "id": "60CC3sv57GbJ"
      },
      "source": [
        "**Se estiver usando o Anaconda, o matplotlib já está disponível por padrão**"
      ],
      "execution_count": null,
      "outputs": []
    },
    {
      "cell_type": "code",
      "metadata": {
        "id": "K3qvJhm7g4rV"
      },
      "source": [
        "# Importando o pyplot\n",
        "from matplotlib import pyplot as plt"
      ],
      "execution_count": 1,
      "outputs": []
    },
    {
      "cell_type": "markdown",
      "metadata": {
        "id": "tJLOBrE57GbP"
      },
      "source": [
        "**Define que os gráficos serem plotados na célula e podem se ajustados**"
      ]
    },
    {
      "cell_type": "code",
      "metadata": {
        "id": "2XCgJAXj7GbQ"
      },
      "source": [
        "%matplotlib notebook"
      ],
      "execution_count": null,
      "outputs": []
    },
    {
      "cell_type": "markdown",
      "metadata": {
        "id": "Fry-dpbL7GbT"
      },
      "source": [
        "**Define que os gráficos ficaram fixos na célula do jupyter notebook**"
      ]
    },
    {
      "cell_type": "code",
      "metadata": {
        "id": "1SMcfIaU7GbU"
      },
      "source": [
        "%matplotlib inline"
      ],
      "execution_count": 2,
      "outputs": []
    },
    {
      "cell_type": "markdown",
      "metadata": {
        "id": "T_2t6RI17GbY"
      },
      "source": [
        "**Plotando gráfico de linhas simples **"
      ]
    },
    {
      "cell_type": "markdown",
      "metadata": {
        "id": "NZ14qKsrDNuK"
      },
      "source": [
        "from IPython.display import Image\n",
        "Image(\"anatomia.png\")"
      ]
    },
    {
      "cell_type": "markdown",
      "metadata": {
        "id": "mfsgkt7WMh9T"
      },
      "source": [
        "## Gráfico de Linhas"
      ]
    },
    {
      "cell_type": "markdown",
      "metadata": {
        "id": "4pwOzZsC7GbZ"
      },
      "source": [
        "* Gráfico normalmente utilizado para visualização de dados em uma linha do tempo.\n",
        "* Normalmente utilizado com eixo X relacionado a dados temporais e eixo Y a dados quantitativos.\n",
        "* Cuidado ao plotar várias linhas, a leitura pode ficar prejudicada."
      ]
    },
    {
      "cell_type": "code",
      "metadata": {
        "id": "vHYaR6p1Orb6"
      },
      "source": [
        "%matplotlib inline\n",
        "# Eixo_x, Eixo_y\n",
        "plt.plot([1, 2, 3, 4], [1, 4, 9, 16])\n",
        "plt.show()"
      ],
      "execution_count": null,
      "outputs": []
    },
    {
      "cell_type": "markdown",
      "metadata": {
        "id": "IEbO73Vn7Gbh"
      },
      "source": [
        "**Definindo label aos eixos**"
      ]
    },
    {
      "cell_type": "code",
      "metadata": {
        "id": "02vdY_9Zny05"
      },
      "source": [
        "%matplotlib notebook\n",
        "import matplotlib.pyplot as plt\n",
        "plt.plot([1, 2, 3, 4],[1, 4, 9, 16])\n",
        "plt.ylabel('Eixo Y')\n",
        "plt.xlabel('Eixo X')\n",
        "plt.show()"
      ],
      "execution_count": null,
      "outputs": []
    },
    {
      "cell_type": "markdown",
      "metadata": {
        "id": "F8T3xC8d7Gbl"
      },
      "source": [
        "**Alterando a forma dos pontos**"
      ]
    },
    {
      "cell_type": "code",
      "metadata": {
        "id": "B8y-T-PNPQHw"
      },
      "source": [
        "%matplotlib inline\n",
        "# plot(x, y)\n",
        "plt.plot([1, 2, 3, 4], [1, 4, 9, 16],'o')\n",
        "plt.show()"
      ],
      "execution_count": null,
      "outputs": []
    },
    {
      "cell_type": "markdown",
      "metadata": {
        "id": "ira0qLpa7Gbq"
      },
      "source": [
        "**Definindo limites de visualização dos eixos x e y**"
      ]
    },
    {
      "cell_type": "code",
      "metadata": {
        "id": "BvXPx243PQLE"
      },
      "source": [
        "# Opções do método axis()\n",
        "%matplotlib inline\n",
        "\n",
        "#plot(x,y)\n",
        "\n",
        "plt.plot([1, 2, 3, 4], [1, 4, 9, 16],'o')\n",
        "\n",
        "#axis(xmin,xmin, ymin,ymax)\n",
        "\n",
        "plt.axis([0, 6, 0, 20])           # [xmin, xmax, ymin, ymax]\n",
        "plt.show()"
      ],
      "execution_count": null,
      "outputs": []
    },
    {
      "cell_type": "markdown",
      "metadata": {
        "id": "4ugLKAPq7Gbw"
      },
      "source": [
        "**Importa a biblioteca numpy**"
      ]
    },
    {
      "cell_type": "code",
      "metadata": {
        "id": "dK7pwQQW7Gby"
      },
      "source": [
        "import numpy as np"
      ],
      "execution_count": null,
      "outputs": []
    },
    {
      "cell_type": "markdown",
      "metadata": {
        "id": "BY-mvxTx7Gb2"
      },
      "source": [
        "**Plot duas séries de dados, no caso x1 e y2 e x3 e y3**"
      ]
    },
    {
      "cell_type": "code",
      "metadata": {
        "id": "4TfBpVkpQUHD"
      },
      "source": [
        "%matplotlib inline\n",
        "x1=np.array([1,2,3,4,5,6,7,8,9,11])\n",
        "\n",
        "x2 = x1\n",
        "y2 = x1**2             # Numero elevado ao quadrado\n",
        "\n",
        "x3 = x1\n",
        "y3 = x1**3             # Numero elevado cubo\n",
        "\n",
        "plt.plot(x1, x1 ,'r--', x2, y2, 'bs', x3, y3, 'g^')\n",
        "\n",
        "plt.show()"
      ],
      "execution_count": null,
      "outputs": []
    },
    {
      "cell_type": "markdown",
      "metadata": {
        "id": "XzVIAcG8U7Qp"
      },
      "source": [
        "## Plotando dados categóricos\n",
        "\n",
        "* Trabalhando com gráficos de barras.\n",
        "* Ideal para quando estamos trabalhando com **comparação de valores**.\n",
        "* Normalmente quer se visualizar frequência ou percentual de valores."
      ]
    },
    {
      "cell_type": "markdown",
      "metadata": {
        "id": "bVW1iuW07Gb8"
      },
      "source": [
        "**Plotando gráfico de barras verticais o gráfico de colunas**"
      ]
    },
    {
      "cell_type": "code",
      "metadata": {
        "colab": {
          "base_uri": "https://localhost:8080/",
          "height": 0
        },
        "id": "HTQstQPoWCxC",
        "outputId": "9d28bb1c-6b9f-474b-9694-eab6ad91f4fb"
      },
      "source": [
        "%matplotlib inline\n",
        "grupos = ['Produto A', 'Produto B', 'Produto C']\n",
        "valores = [1, 10, 100]\n",
        "\n",
        "plt.bar(grupos, valores)\n",
        "\n",
        "plt.show()"
      ],
      "execution_count": 10,
      "outputs": [
        {
          "output_type": "display_data",
          "data": {
            "image/png": "[encoded data removed]",
            "text/plain": [
              "<Figure size 432x288 with 1 Axes>"
            ]
          },
          "metadata": {
            "tags": [],
            "needs_background": "light"
          }
        }
      ]
    },
    {
      "cell_type": "markdown",
      "metadata": {
        "id": "63-n7ZbOMh9e"
      },
      "source": [
        "**Plota gráficos de Barras juntas**"
      ]
    },
    {
      "cell_type": "code",
      "metadata": {
        "id": "mwbPsyoIMh9e"
      },
      "source": [
        "# Importa o numpy\n",
        "import numpy as np"
      ],
      "execution_count": 11,
      "outputs": []
    },
    {
      "cell_type": "code",
      "metadata": {
        "colab": {
          "base_uri": "https://localhost:8080/",
          "height": 0
        },
        "id": "cczHg2-87X53",
        "outputId": "c604c713-36fb-4065-fb0a-32a98f2186e9"
      },
      "source": [
        "%matplotlib inline\n",
        "\n",
        "# Quantidade de vendas para o Produto A\n",
        "valores_produto_A = [6,7,8,4,4]\n",
        "\n",
        "\n",
        "# Quantidade de vendas para o Produto B\n",
        "valores_produto_B = [3,12,3,4.1,6]\n",
        "\n",
        "# Cria eixo x para produto A e produto B com uma separação de 0.25 entre as barras\n",
        "x1 =  np.arange(len(valores_produto_A))\n",
        "x2 = [x + 0.25 for x in x1]\n",
        "\n",
        "# Plota as barras\n",
        "plt.bar(x1, valores_produto_A, width=0.25, label = 'Produto A', color = 'b')\n",
        "plt.bar(x2, valores_produto_B, width=0.25, label = 'Produto B', color = 'y')\n",
        "\n",
        "meses = ['Agosto','Setembro','Outubro','Novembro','Dezembro']\n",
        "plt.xticks([x + 0.25 for x in range(len(valores_produto_A))], meses)\n",
        "\n",
        "plt.legend()\n",
        "\n",
        "plt.title(\"Quantidade de Vendas\")\n",
        "plt.show()"
      ],
      "execution_count": 12,
      "outputs": [
        {
          "output_type": "display_data",
          "data": {
            "image/png": "[encoded data removed]",
            "text/plain": [
              "<Figure size 432x288 with 1 Axes>"
            ]
          },
          "metadata": {
            "tags": [],
            "needs_background": "light"
          }
        }
      ]
    },
    {
      "cell_type": "markdown",
      "metadata": {
        "id": "DqPa2WbF7GcA"
      },
      "source": [
        "**Gráfico de barras horizontais**"
      ]
    },
    {
      "cell_type": "markdown",
      "metadata": {
        "id": "aXjh-OXv7GcB"
      },
      "source": [
        "* Gráfico muito usado quando queremos fazer **comparações**.\n",
        "* Muito usado em pesquisas de campanhas eleitorais.\n",
        "* Leitura muito simples e intuitiva.\n",
        "* Funciona bem quando os labels dos eixos são longos."
      ]
    },
    {
      "cell_type": "code",
      "metadata": {
        "colab": {
          "base_uri": "https://localhost:8080/",
          "height": 0
        },
        "id": "MDEhQUOoMh9h",
        "outputId": "35553cba-0c72-4a8d-ddf5-c9356f265dc6"
      },
      "source": [
        "%matplotlib inline\n",
        "grupos = ['Produto A', 'Produto B', 'Produto C']\n",
        "valores = [1, 10, 100]\n",
        "\n",
        "plt.barh(grupos, valores)\n",
        "\n",
        "plt.show()"
      ],
      "execution_count": 13,
      "outputs": [
        {
          "output_type": "display_data",
          "data": {
            "image/png": "[encoded data removed]",
            "text/plain": [
              "<Figure size 432x288 with 1 Axes>"
            ]
          },
          "metadata": {
            "tags": [],
            "needs_background": "light"
          }
        }
      ]
    },
    {
      "cell_type": "markdown",
      "metadata": {
        "id": "Lq2KefyMMh9h"
      },
      "source": [
        "**Rotacionando Labels**"
      ]
    },
    {
      "cell_type": "code",
      "metadata": {
        "colab": {
          "base_uri": "https://localhost:8080/",
          "height": 0
        },
        "id": "VkKg3cdUMh9l",
        "outputId": "5a286355-10a2-41cf-b50d-8c3966822583"
      },
      "source": [
        "%matplotlib inline\n",
        "grupos = ['Produto A', 'Produto B', 'Produto C']\n",
        "valores = [1, 10, 100]\n",
        "\n",
        "plt.barh(grupos, valores)\n",
        "plt.barh (grupos, valores)\n",
        "plt.yticks(rotation=45)\n",
        "\n",
        "plt.show()"
      ],
      "execution_count": 14,
      "outputs": [
        {
          "output_type": "display_data",
          "data": {
            "image/png": "[encoded data removed]",
            "text/plain": [
              "<Figure size 432x288 with 1 Axes>"
            ]
          },
          "metadata": {
            "tags": [],
            "needs_background": "light"
          }
        }
      ]
    },
    {
      "cell_type": "markdown",
      "metadata": {
        "id": "nC4HrBsn7GcG"
      },
      "source": [
        "**Rotacionando labels nos eixos**"
      ]
    },
    {
      "cell_type": "markdown",
      "metadata": {
        "id": "TiZ3UhWrYEO1"
      },
      "source": [
        "# Grafico de Pizza"
      ]
    },
    {
      "cell_type": "code",
      "metadata": {
        "colab": {
          "base_uri": "https://localhost:8080/",
          "height": 248
        },
        "id": "wqebGM9P7GcK",
        "outputId": "9b2aa47d-35a9-484c-da09-991562e450e8"
      },
      "source": [
        "%matplotlib inline\n",
        "\n",
        "vendas = [3000, 2300, 1000, 500]\n",
        "labels = ['E-commerce', 'Loja Física', 'e-mail', 'Marketplace']\n",
        "\n",
        "plt.pie(vendas, labels=labels)\n",
        "plt.show()"
      ],
      "execution_count": 3,
      "outputs": [
        {
          "output_type": "display_data",
          "data": {
            "image/png": "[encoded data removed]",
            "text/plain": [
              "<Figure size 432x288 with 1 Axes>"
            ]
          },
          "metadata": {
            "tags": []
          }
        }
      ]
    },
    {
      "cell_type": "code",
      "metadata": {
        "id": "jr8tS4LoPQNj"
      },
      "source": [
        "## Customizando gráficos"
      ],
      "execution_count": 15,
      "outputs": []
    },
    {
      "cell_type": "markdown",
      "metadata": {
        "id": "RlGYDaV8Mh9o"
      },
      "source": [
        "* Adicionando informações de percentual, sombra, separação das partes e legenda"
      ]
    },
    {
      "cell_type": "code",
      "metadata": {
        "colab": {
          "base_uri": "https://localhost:8080/",
          "height": 249
        },
        "id": "fvbc4XXN7GcQ",
        "outputId": "2df8a8de-a521-466e-e120-89a0848c5b79"
      },
      "source": [
        "%matplotlib inline\n",
        "\n",
        "vendas = [3000, 2300, 1000, 500]\n",
        "labels = ['E-commerce', 'Loja Física', 'e-mail', 'Marketplace']\n",
        "\n",
        "# define o nível de separabilidade entre as partes, ordem do vetor representa as partes\n",
        "explode = (0.1, 0, 0, 0) \n",
        "\n",
        "plt.pie(vendas, labels=labels, autopct='%1.1f%%', shadow=True, explode=explode)\n",
        "plt.legend(labels, loc=2)\n",
        "\n",
        "\n",
        "# define que o gráfico será plotado em circulo\n",
        "plt.axis('equal')\n",
        "\n",
        "plt.show()"
      ],
      "execution_count": 16,
      "outputs": [
        {
          "output_type": "display_data",
          "data": {
            "image/png": "[encoded data removed]",
            "text/plain": [
              "<Figure size 432x288 with 1 Axes>"
            ]
          },
          "metadata": {
            "tags": []
          }
        }
      ]
    },
    {
      "cell_type": "markdown",
      "metadata": {
        "id": "kMigHLvIskvo"
      },
      "source": [
        "# Matplotlib , pyplot e pylab?"
      ]
    },
    {
      "cell_type": "markdown",
      "metadata": {
        "id": "an3jYKIXs6yp"
      },
      "source": [
        "*  Pyplot é um módulo do pacote matplotlib que implicitamente cria figuras e eixos nos gráficos.\n",
        "*  Pylab é outro módulo do matplotlib que já importa o numpy e pyplot. Este módulo é projetado para plots de arrays e cálculos matemáticos.\n",
        "*  Pylab está depreciado\n",
        "\n"
      ]
    },
    {
      "cell_type": "code",
      "metadata": {
        "colab": {
          "base_uri": "https://localhost:8080/",
          "height": 265
        },
        "id": "HD6NO7GNstUP",
        "outputId": "8bc17c98-e016-4574-c146-d7e08b18821c"
      },
      "source": [
        "import matplotlib.pyplot as plt\n",
        "import numpy as np\n",
        "\n",
        "# Cria uma figura\n",
        "fig = plt.figure()\n",
        "\n",
        "# Define eixos\n",
        "ax = fig.add_subplot(111)\n",
        "\n",
        "# Scatter plot usando numpy\n",
        "ax.scatter(np.linspace(0, 1, 5), np.linspace(0, 5, 5))\n",
        "\n",
        "# Show the plot\n",
        "plt.show()"
      ],
      "execution_count": 17,
      "outputs": [
        {
          "output_type": "display_data",
          "data": {
            "image/png": "[encoded data removed]",
            "text/plain": [
              "<Figure size 432x288 with 1 Axes>"
            ]
          },
          "metadata": {
            "tags": [],
            "needs_background": "light"
          }
        }
      ]
    },
    {
      "cell_type": "markdown",
      "metadata": {
        "id": "xM2WSk1zz4vo"
      },
      "source": [
        "## Criando Subplots"
      ]
    },
    {
      "cell_type": "markdown",
      "metadata": {
        "id": "9L_rbcs8Mh9r"
      },
      "source": [
        "* Para criar subplots defina o número de linhas de gráficos e número de colunas (quantidade de gráfico em cada linha)"
      ]
    },
    {
      "cell_type": "code",
      "metadata": {
        "colab": {
          "base_uri": "https://localhost:8080/",
          "height": 337
        },
        "id": "NrO8R9CSMh9r",
        "outputId": "f3c7bec3-df05-4bde-9249-9c234d11d517"
      },
      "source": [
        "plt.subplots(nrows=1, ncols=2)"
      ],
      "execution_count": 18,
      "outputs": [
        {
          "output_type": "execute_result",
          "data": {
            "text/plain": [
              "(<Figure size 432x288 with 2 Axes>,\n",
              " array([<matplotlib.axes._subplots.AxesSubplot object at 0x7f796e8e5d10>,\n",
              "        <matplotlib.axes._subplots.AxesSubplot object at 0x7f796e970450>],\n",
              "       dtype=object))"
            ]
          },
          "metadata": {
            "tags": []
          },
          "execution_count": 18
        },
        {
          "output_type": "display_data",
          "data": {
            "image/png": "[encoded data removed]",
            "text/plain": [
              "<Figure size 432x288 with 2 Axes>"
            ]
          },
          "metadata": {
            "tags": [],
            "needs_background": "light"
          }
        }
      ]
    },
    {
      "cell_type": "markdown",
      "metadata": {
        "id": "xnGED2D_Mh9s"
      },
      "source": [
        "** 1 linha com 3 colunas **"
      ]
    },
    {
      "cell_type": "code",
      "metadata": {
        "colab": {
          "base_uri": "https://localhost:8080/",
          "height": 354
        },
        "id": "S9efaUP5Mh9s",
        "outputId": "2968d7eb-2d1b-462a-b883-5362496815a9"
      },
      "source": [
        "plt.subplots(nrows=1, ncols=3)"
      ],
      "execution_count": 19,
      "outputs": [
        {
          "output_type": "execute_result",
          "data": {
            "text/plain": [
              "(<Figure size 432x288 with 3 Axes>,\n",
              " array([<matplotlib.axes._subplots.AxesSubplot object at 0x7f796e88dfd0>,\n",
              "        <matplotlib.axes._subplots.AxesSubplot object at 0x7f796ea84510>,\n",
              "        <matplotlib.axes._subplots.AxesSubplot object at 0x7f796ea44290>],\n",
              "       dtype=object))"
            ]
          },
          "metadata": {
            "tags": []
          },
          "execution_count": 19
        },
        {
          "output_type": "display_data",
          "data": {
            "image/png": "[encoded data removed]",
            "text/plain": [
              "<Figure size 432x288 with 3 Axes>"
            ]
          },
          "metadata": {
            "tags": [],
            "needs_background": "light"
          }
        }
      ]
    },
    {
      "cell_type": "markdown",
      "metadata": {
        "id": "oJPwUXmxMh9t"
      },
      "source": [
        "**2 linhas com 2 colunas**"
      ]
    },
    {
      "cell_type": "code",
      "metadata": {
        "colab": {
          "base_uri": "https://localhost:8080/",
          "height": 371
        },
        "id": "HuDUzkxcMh9u",
        "outputId": "cc2ac885-4c9a-417c-9618-f58a3df1a195"
      },
      "source": [
        "plt.subplots(nrows=2, ncols=2)"
      ],
      "execution_count": 20,
      "outputs": [
        {
          "output_type": "execute_result",
          "data": {
            "text/plain": [
              "(<Figure size 432x288 with 4 Axes>,\n",
              " array([[<matplotlib.axes._subplots.AxesSubplot object at 0x7f796e9bb990>,\n",
              "         <matplotlib.axes._subplots.AxesSubplot object at 0x7f796e9e56d0>],\n",
              "        [<matplotlib.axes._subplots.AxesSubplot object at 0x7f796ea31d10>,\n",
              "         <matplotlib.axes._subplots.AxesSubplot object at 0x7f796e934390>]],\n",
              "       dtype=object))"
            ]
          },
          "metadata": {
            "tags": []
          },
          "execution_count": 20
        },
        {
          "output_type": "display_data",
          "data": {
            "image/png": "[encoded data removed]",
            "text/plain": [
              "<Figure size 432x288 with 4 Axes>"
            ]
          },
          "metadata": {
            "tags": [],
            "needs_background": "light"
          }
        }
      ]
    },
    {
      "cell_type": "markdown",
      "metadata": {
        "id": "fID9gfpyMh9u"
      },
      "source": [
        "**Para acessar suplots usa-se o método *subplot* (atenção para o nome correto no singular)**"
      ]
    },
    {
      "cell_type": "code",
      "metadata": {
        "colab": {
          "base_uri": "https://localhost:8080/",
          "height": 282
        },
        "id": "l7j-EAtqMh9u",
        "outputId": "01882aa7-cbea-4316-dc8a-24ec6a72ff3a"
      },
      "source": [
        "x = [1,2,3,4]\n",
        "y = [10,20,25,40]\n",
        "\n",
        "plt.subplot(1,2,1)\n",
        "plt.plot(x,y, 'o')\n",
        "\n",
        "plt.subplot(1,2,2)\n",
        "plt.plot(x,y, color='r')"
      ],
      "execution_count": 21,
      "outputs": [
        {
          "output_type": "execute_result",
          "data": {
            "text/plain": [
              "[<matplotlib.lines.Line2D at 0x7f796e7313d0>]"
            ]
          },
          "metadata": {
            "tags": []
          },
          "execution_count": 21
        },
        {
          "output_type": "display_data",
          "data": {
            "image/png": "[encoded data removed]",
            "text/plain": [
              "<Figure size 432x288 with 2 Axes>"
            ]
          },
          "metadata": {
            "tags": [],
            "needs_background": "light"
          }
        }
      ]
    },
    {
      "cell_type": "markdown",
      "metadata": {
        "id": "-T45iEgBMh9x"
      },
      "source": [
        "**Criação de instâncias de classes figure**\n",
        "\n",
        "* Aumenta o controle do nível de customização das funções do Matplotlib.\n",
        "* Gera menos código devido a orientação a objetos."
      ]
    },
    {
      "cell_type": "code",
      "metadata": {
        "colab": {
          "base_uri": "https://localhost:8080/",
          "height": 295
        },
        "id": "Zoch4o87Mh9x",
        "outputId": "1caa38bb-f2ad-4e60-d1c2-924119b3da1a"
      },
      "source": [
        "# Cria um objeto do tipo figure\n",
        "fig = plt.figure()\n",
        "\n",
        "# Define o tamanho em percentual do grafico.\n",
        "# Altura e largura do eixo na figura\n",
        "\n",
        "axes_a = fig.add_axes([0.1, 0.1, 0.8, 0.8])\n",
        "\n",
        "# Plota o gráfico\n",
        "axes_a.plot(x,y)"
      ],
      "execution_count": 22,
      "outputs": [
        {
          "output_type": "execute_result",
          "data": {
            "text/plain": [
              "[<matplotlib.lines.Line2D at 0x7f796e6407d0>]"
            ]
          },
          "metadata": {
            "tags": []
          },
          "execution_count": 22
        },
        {
          "output_type": "display_data",
          "data": {
            "image/png": "[encoded data removed]",
            "text/plain": [
              "<Figure size 432x288 with 1 Axes>"
            ]
          },
          "metadata": {
            "tags": [],
            "needs_background": "light"
          }
        }
      ]
    },
    {
      "cell_type": "markdown",
      "metadata": {
        "id": "PhKX6UtrMh9y"
      },
      "source": [
        "**Uma figura com dois gráficos de proporções diferentes**"
      ]
    },
    {
      "cell_type": "code",
      "metadata": {
        "colab": {
          "base_uri": "https://localhost:8080/",
          "height": 295
        },
        "id": "Akhzf2_UMh9y",
        "outputId": "95f0ebf7-48e1-4d81-c341-6e3b7dec64e4"
      },
      "source": [
        "# Cria um objeto do tipo figure\n",
        "fig = plt.figure()\n",
        "\n",
        "# Define o tamanho em percentual do grafico.\n",
        "# Altura e largura do eixo na figura\n",
        "axes_a = fig.add_axes([0.1, 0.1, 0.8, 0.8])\n",
        "\n",
        "axes_b = fig.add_axes([0.2, 0.5, 0.3, 0.3])\n",
        "\n",
        "# Plota a figura com dois eixos.\n",
        "# O \"r--\" significa linha tracejada em vermelho(r)\n",
        "axes_a.plot(x,y)\n",
        "\n",
        "axes_b.plot(x,y,'r--')"
      ],
      "execution_count": 23,
      "outputs": [
        {
          "output_type": "execute_result",
          "data": {
            "text/plain": [
              "[<matplotlib.lines.Line2D at 0x7f796e5eea10>]"
            ]
          },
          "metadata": {
            "tags": []
          },
          "execution_count": 23
        },
        {
          "output_type": "display_data",
          "data": {
            "image/png": "[encoded data removed]",
            "text/plain": [
              "<Figure size 432x288 with 2 Axes>"
            ]
          },
          "metadata": {
            "tags": [],
            "needs_background": "light"
          }
        }
      ]
    },
    {
      "cell_type": "markdown",
      "metadata": {
        "id": "32-kFz6nMh9y"
      },
      "source": [
        "** É possível customizar a largura ou altura do gráfico para acomodar melhor seus dados.**\n",
        "\n",
        "*  Exemplo: gráficos de dados financeitos em uma granularidade muito baixa (minutos)"
      ]
    },
    {
      "cell_type": "code",
      "metadata": {
        "colab": {
          "base_uri": "https://localhost:8080/",
          "height": 337
        },
        "id": "d7x5lqfhMh90",
        "outputId": "7993f555-b9ab-4c27-825b-a82174b3caf9"
      },
      "source": [
        "x = [1,2,3,4]\n",
        "y = [10,20,25,40]\n",
        "\n",
        "# Altera a largura e altura do gráfico (width,height) \n",
        "fig, ax = plt.subplots(figsize=(20,5))\n",
        "\n",
        "# Plota o gráfico\n",
        "ax.plot(x,y, 'r--')"
      ],
      "execution_count": 24,
      "outputs": [
        {
          "output_type": "execute_result",
          "data": {
            "text/plain": [
              "[<matplotlib.lines.Line2D at 0x7f796e505610>]"
            ]
          },
          "metadata": {
            "tags": []
          },
          "execution_count": 24
        },
        {
          "output_type": "display_data",
          "data": {
            "image/png": "[encoded data removed]",
            "text/plain": [
              "<Figure size 1440x360 with 1 Axes>"
            ]
          },
          "metadata": {
            "tags": [],
            "needs_background": "light"
          }
        }
      ]
    },
    {
      "cell_type": "markdown",
      "metadata": {
        "id": "LC8ZB55-Mh96"
      },
      "source": [
        "** Plotando dois gráficos (eixos) na mesma figura**"
      ]
    },
    {
      "cell_type": "code",
      "metadata": {
        "colab": {
          "base_uri": "https://localhost:8080/",
          "height": 320
        },
        "id": "pAOLeYFkx48X",
        "outputId": "90fdbc80-a178-43a1-986b-f49428499c75"
      },
      "source": [
        "# Define as configurações dos plots\n",
        "# Cada plot terá o mesmo tamanho de figuras\n",
        "\n",
        "fig, (ax1, ax2) = plt.subplots(1, 2, figsize=(10,5))### largura = 10 altura = 5\n",
        "\n",
        "# Dados para cada subplot\n",
        "ax1.bar([1,2,3],[3,4,5])\n",
        "\n",
        "ax2.barh([0.5,1,2.5],[0,1,2])## grafico de barras horizontais \n",
        "\n",
        "plt.show()"
      ],
      "execution_count": 26,
      "outputs": [
        {
          "output_type": "display_data",
          "data": {
            "image/png": "[encoded data removed]",
            "text/plain": [
              "<Figure size 720x360 with 2 Axes>"
            ]
          },
          "metadata": {
            "tags": [],
            "needs_background": "light"
          }
        }
      ]
    },
    {
      "cell_type": "markdown",
      "metadata": {
        "id": "kuEbnu-cMh97"
      },
      "source": [
        "** Define configuracões dos eixos com o método \"set()\"**"
      ]
    },
    {
      "cell_type": "code",
      "metadata": {
        "colab": {
          "base_uri": "https://localhost:8080/",
          "height": 354
        },
        "id": "_Tm6l_Y9x5E-",
        "outputId": "1d62618d-b84b-4bd1-d937-5201e6a22684"
      },
      "source": [
        "import matplotlib.pyplot as plt\n",
        "\n",
        "# Define as configurações dos plots\n",
        "# Cada plot terá o mesmo tamanho de figuras\n",
        "fig, (ax1, ax2) = plt.subplots(1, 2, figsize=(10,5))\n",
        "\n",
        "# Dados para cada subplot\n",
        "ax1.bar([1,2,3],[3,4,5], color='r')\n",
        "\n",
        "ax2.barh([0.5,1,2.5],[0,1,2],color  ='c')\n",
        "\n",
        "# Usa o método set para definir configurações do  gráfico\n",
        "ax1.set(title=\"Gráfico de Barras Verticais\", xlabel=\"Eixo x\", ylabel=\" Eixo y\")\n",
        "\n",
        "ax2.set(title=\"Gráfico de Barras Horizontais\", xlabel=\"Eixo x\", ylabel=\"Eixo y\")\n",
        "\n",
        "plt.show()"
      ],
      "execution_count": 29,
      "outputs": [
        {
          "output_type": "display_data",
          "data": {
            "image/png": "[encoded data removed]",
            "text/plain": [
              "<Figure size 720x360 with 2 Axes>"
            ]
          },
          "metadata": {
            "tags": [],
            "needs_background": "light"
          }
        }
      ]
    },
    {
      "cell_type": "markdown",
      "metadata": {
        "id": "Z4QF_QpJ-v-o"
      },
      "source": [
        "# Customizando layouts"
      ]
    },
    {
      "cell_type": "code",
      "metadata": {
        "id": "YEWgIbl3x5LI"
      },
      "source": [
        "import matplotlib.pyplot as plt\n",
        "\n",
        "# Define o stilo para ggplot\n",
        "plt.style.use(\"ggplot\")"
      ],
      "execution_count": 30,
      "outputs": []
    },
    {
      "cell_type": "code",
      "metadata": {
        "colab": {
          "base_uri": "https://localhost:8080/",
          "height": 354
        },
        "id": "6Xj2JXbcx5OL",
        "outputId": "40258265-6f38-4d1a-c12b-e0b8f1730a5a"
      },
      "source": [
        "import matplotlib.pyplot as plt\n",
        "\n",
        "# Define as configurações dos plots\n",
        "# Cada plot terá o mesmo tamanho de figuras (10,5)\n",
        "fig, (ax1, ax2) = plt.subplots(1, 2, figsize=(10,5))\n",
        "\n",
        "# Dados para cada subplot\n",
        "ax1.bar([1,2,3],[3,4,5])\n",
        "ax2.barh([0.5,1,2.5],[0,1,2],color ='m')\n",
        "\n",
        "ax1.set(title=\"Gráfico de Barras Verticais\", xlabel=\"Eixo x\", ylabel=\" Eixo y\")\n",
        "ax2.set(title=\"Gráfico de Barras Horizontais\", xlabel=\"Eixo x\", ylabel=\"Eixo y\")\n",
        "\n",
        "plt.show()"
      ],
      "execution_count": 32,
      "outputs": [
        {
          "output_type": "display_data",
          "data": {
            "image/png": "[encoded data removed]",
            "text/plain": [
              "<Figure size 720x360 with 2 Axes>"
            ]
          },
          "metadata": {
            "tags": []
          }
        }
      ]
    },
    {
      "cell_type": "markdown",
      "metadata": {
        "id": "ts126zPhMh9_"
      },
      "source": [
        "** Matplotlib funciona também com cores em RGB. Para fazer isso use o parâmetro *color* **"
      ]
    },
    {
      "cell_type": "code",
      "metadata": {
        "colab": {
          "base_uri": "https://localhost:8080/",
          "height": 354
        },
        "id": "EyRfUJePMh9_",
        "outputId": "168790e4-9ef3-4381-d2e6-cd3d6ae4b9e6"
      },
      "source": [
        "# Define as configurações dos plots\n",
        "# Cada plot terá o mesmo tamanho de figuras (10,5)\n",
        "fig, (ax1, ax2) = plt.subplots(1, 2, figsize=(10,5))\n",
        "\n",
        "# Dados para cada subplot\n",
        "ax1.bar([1,2,3],[3,4,5],color='#00BFFF')\n",
        "ax2.barh([0.5,1,2.5],[0,1,2], color='#00FF00')\n",
        "\n",
        "ax1.set(title=\"Gráfico de Barras Verticais\", xlabel=\"Eixo x\", ylabel=\" Eixo y\")\n",
        "ax2.set(title=\"Gráfico de Barras Horizontais\", xlabel=\"Eixo x\", ylabel=\"Eixo y\")\n",
        "\n",
        "\n",
        "plt.show()"
      ],
      "execution_count": 33,
      "outputs": [
        {
          "output_type": "display_data",
          "data": {
            "image/png": "[encoded data removed]",
            "text/plain": [
              "<Figure size 720x360 with 2 Axes>"
            ]
          },
          "metadata": {
            "tags": []
          }
        }
      ]
    },
    {
      "cell_type": "markdown",
      "metadata": {
        "id": "yrXJpYg5ySWi"
      },
      "source": [
        "# Adiciona textos em gráficos"
      ]
    },
    {
      "cell_type": "code",
      "metadata": {
        "id": "1CLFIKqxMh-B"
      },
      "source": [
        "import numpy as np"
      ],
      "execution_count": 36,
      "outputs": []
    },
    {
      "cell_type": "code",
      "metadata": {
        "colab": {
          "base_uri": "https://localhost:8080/",
          "height": 300
        },
        "id": "aS8CHKTDxDjn",
        "outputId": "8a172fec-14b3-42c9-d736-e93e54313018"
      },
      "source": [
        "%matplotlib inline\n",
        "\n",
        "# 100 valores no intervalo de 0 a 2.\n",
        "x = np.linspace(0, 2, num=100)\n",
        "\n",
        "# define a legenda e tamanho de linhas\n",
        "plt.plot(x, x, label='linear')\n",
        "\n",
        "plt.plot(x, x**2, label='quadratico', linewidth=5)\n",
        "\n",
        "plt.xlabel('x label')\n",
        "plt.ylabel('y label')\n",
        "\n",
        "plt.title(\"Gráfico de Linhas Simples\")\n",
        "\n",
        "# Exibe a legenda e por padrão usa o label de cada plot.\n",
        "plt.legend()\n",
        "\n",
        "# Configurações do texto\n",
        "plt.text(1.00, 1.0, \"Cruzamento das Linhas\", fontsize=12, horizontalalignment='right')\n",
        "\n",
        "plt.show()"
      ],
      "execution_count": 37,
      "outputs": [
        {
          "output_type": "display_data",
          "data": {
            "image/png": "[encoded data removed]",
            "text/plain": [
              "<Figure size 432x288 with 1 Axes>"
            ]
          },
          "metadata": {
            "tags": [],
            "needs_background": "light"
          }
        }
      ]
    },
    {
      "cell_type": "markdown",
      "metadata": {
        "id": "OvZS7v9-S_GH"
      },
      "source": [
        "# Plotando Histogramas"
      ]
    },
    {
      "cell_type": "markdown",
      "metadata": {
        "id": "_mwzb2997Gcw"
      },
      "source": [
        "* Histogramas são úteis quando queremos visualizar a distribuição de **uma** variável.\n",
        "* Esse é um gráfico muito utilizado em estatítica descritiva.\n",
        "* Facilita a visualização de dados extremos.\n",
        "* É útil em tarefas de **análise** e **exploração** de dados."
      ]
    },
    {
      "cell_type": "markdown",
      "metadata": {
        "id": "ibk4aMdK7Gcx"
      },
      "source": [
        "**Gera dados aleatórios com média em torno de 0 e desvio padrão em torno de 1**"
      ]
    },
    {
      "cell_type": "code",
      "metadata": {
        "id": "Ff0fVWxkUhKL"
      },
      "source": [
        "d = np.random.normal(0, 1, size=500)"
      ],
      "execution_count": 43,
      "outputs": []
    },
    {
      "cell_type": "markdown",
      "metadata": {
        "id": "EmPwHClH7Gc3"
      },
      "source": [
        "**Plota histograma com 10 bins**"
      ]
    },
    {
      "cell_type": "code",
      "metadata": {
        "colab": {
          "base_uri": "https://localhost:8080/",
          "height": 350
        },
        "id": "euy4VsCvS-Ho",
        "outputId": "4e7688c5-aeb8-4b88-896b-e5040af799c9"
      },
      "source": [
        "%matplotlib inline \n",
        "plt.hist(d, bins=10,color='y')"
      ],
      "execution_count": 44,
      "outputs": [
        {
          "output_type": "execute_result",
          "data": {
            "text/plain": [
              "(array([  3.,   8.,  24.,  68.,  99., 138.,  85.,  45.,  26.,   4.]),\n",
              " array([-3.14529363, -2.54926661, -1.95323959, -1.35721256, -0.76118554,\n",
              "        -0.16515852,  0.4308685 ,  1.02689552,  1.62292255,  2.21894957,\n",
              "         2.81497659]),\n",
              " <a list of 10 Patch objects>)"
            ]
          },
          "metadata": {
            "tags": []
          },
          "execution_count": 44
        },
        {
          "output_type": "display_data",
          "data": {
            "image/png": "[encoded data removed]",
            "text/plain": [
              "<Figure size 432x288 with 1 Axes>"
            ]
          },
          "metadata": {
            "tags": [],
            "needs_background": "light"
          }
        }
      ]
    },
    {
      "cell_type": "code",
      "metadata": {
        "id": "7uVvCcqnS-Kb"
      },
      "source": [
        "## Trabalhando com dataframes Pandas"
      ],
      "execution_count": 45,
      "outputs": []
    },
    {
      "cell_type": "markdown",
      "metadata": {
        "id": "uJ-gh6laMh-G"
      },
      "source": [
        "* O Matplotlib trabalha bem com o Pandas. \n",
        "* É possível usar recursos de dataframes usando o parâmetro **data**."
      ]
    },
    {
      "cell_type": "code",
      "metadata": {
        "id": "R4ylK8x1Mh-H"
      },
      "source": [
        "import pandas as pd"
      ],
      "execution_count": 46,
      "outputs": []
    },
    {
      "cell_type": "markdown",
      "metadata": {
        "id": "JlL-Za17Mh-H"
      },
      "source": [
        "** Cria um dicionário de valores**"
      ]
    },
    {
      "cell_type": "code",
      "metadata": {
        "id": "4-A66M1WMh-H"
      },
      "source": [
        "data = {'a': np.arange(50),\n",
        "        'c': np.random.randint(0, 50, 50),\n",
        "        'd': np.random.randn(50)\n",
        "       }"
      ],
      "execution_count": 47,
      "outputs": []
    },
    {
      "cell_type": "code",
      "metadata": {
        "id": "vduDLS2fMh-I"
      },
      "source": [
        "data = pd.DataFrame(data)"
      ],
      "execution_count": 48,
      "outputs": []
    },
    {
      "cell_type": "code",
      "metadata": {
        "colab": {
          "base_uri": "https://localhost:8080/"
        },
        "id": "IhyGpieQMh-J",
        "outputId": "470a48a4-ea32-4532-80bc-4cbe881994ea"
      },
      "source": [
        "type(data)"
      ],
      "execution_count": 49,
      "outputs": [
        {
          "output_type": "execute_result",
          "data": {
            "text/plain": [
              "pandas.core.frame.DataFrame"
            ]
          },
          "metadata": {
            "tags": []
          },
          "execution_count": 49
        }
      ]
    },
    {
      "cell_type": "code",
      "metadata": {
        "colab": {
          "base_uri": "https://localhost:8080/",
          "height": 204
        },
        "id": "QWaELjbTMh-J",
        "outputId": "d44fafe3-5eeb-4c61-c00a-7ebe72c5a15d"
      },
      "source": [
        "data.head()"
      ],
      "execution_count": 50,
      "outputs": [
        {
          "output_type": "execute_result",
          "data": {
            "text/html": [
              "<div>\n",
              "<style scoped>\n",
              "    .dataframe tbody tr th:only-of-type {\n",
              "        vertical-align: middle;\n",
              "    }\n",
              "\n",
              "    .dataframe tbody tr th {\n",
              "        vertical-align: top;\n",
              "    }\n",
              "\n",
              "    .dataframe thead th {\n",
              "        text-align: right;\n",
              "    }\n",
              "</style>\n",
              "<table border=\"1\" class=\"dataframe\">\n",
              "  <thead>\n",
              "    <tr style=\"text-align: right;\">\n",
              "      <th></th>\n",
              "      <th>a</th>\n",
              "      <th>c</th>\n",
              "      <th>d</th>\n",
              "    </tr>\n",
              "  </thead>\n",
              "  <tbody>\n",
              "    <tr>\n",
              "      <th>0</th>\n",
              "      <td>0</td>\n",
              "      <td>4</td>\n",
              "      <td>1.541025</td>\n",
              "    </tr>\n",
              "    <tr>\n",
              "      <th>1</th>\n",
              "      <td>1</td>\n",
              "      <td>40</td>\n",
              "      <td>0.267049</td>\n",
              "    </tr>\n",
              "    <tr>\n",
              "      <th>2</th>\n",
              "      <td>2</td>\n",
              "      <td>36</td>\n",
              "      <td>-1.115964</td>\n",
              "    </tr>\n",
              "    <tr>\n",
              "      <th>3</th>\n",
              "      <td>3</td>\n",
              "      <td>26</td>\n",
              "      <td>1.348595</td>\n",
              "    </tr>\n",
              "    <tr>\n",
              "      <th>4</th>\n",
              "      <td>4</td>\n",
              "      <td>39</td>\n",
              "      <td>1.260998</td>\n",
              "    </tr>\n",
              "  </tbody>\n",
              "</table>\n",
              "</div>"
            ],
            "text/plain": [
              "   a   c         d\n",
              "0  0   4  1.541025\n",
              "1  1  40  0.267049\n",
              "2  2  36 -1.115964\n",
              "3  3  26  1.348595\n",
              "4  4  39  1.260998"
            ]
          },
          "metadata": {
            "tags": []
          },
          "execution_count": 50
        }
      ]
    },
    {
      "cell_type": "markdown",
      "metadata": {
        "id": "ceznZi07Mh-J"
      },
      "source": [
        "** Gera dados aleatorios para coluna b e d**"
      ]
    },
    {
      "cell_type": "code",
      "metadata": {
        "id": "T5e4lQBGMh-K"
      },
      "source": [
        "data['b'] = data['a'] + 10 * np.random.randn(50)\n",
        "data['d'] = np.abs(data['d']) * 200"
      ],
      "execution_count": 51,
      "outputs": []
    },
    {
      "cell_type": "code",
      "metadata": {
        "colab": {
          "base_uri": "https://localhost:8080/"
        },
        "id": "o-T2JGE7Mh-K",
        "outputId": "2c397b04-ab55-4f38-d6eb-4a7282491eea"
      },
      "source": [
        "data.b.head()"
      ],
      "execution_count": 52,
      "outputs": [
        {
          "output_type": "execute_result",
          "data": {
            "text/plain": [
              "0    -5.724879\n",
              "1    -0.116496\n",
              "2    15.613816\n",
              "3    -2.687731\n",
              "4    -2.714741\n",
              "Name: b, dtype: float64"
            ]
          },
          "metadata": {
            "tags": []
          },
          "execution_count": 52
        }
      ]
    },
    {
      "cell_type": "markdown",
      "metadata": {
        "id": "NT_ZiBc0Mh-L"
      },
      "source": [
        "**Dados Absolutos**"
      ]
    },
    {
      "cell_type": "code",
      "metadata": {
        "colab": {
          "base_uri": "https://localhost:8080/"
        },
        "id": "kUog8shcMh-M",
        "outputId": "d8982d96-8d2b-4997-dca7-ff60db25cfd4"
      },
      "source": [
        "data.d.head()"
      ],
      "execution_count": 53,
      "outputs": [
        {
          "output_type": "execute_result",
          "data": {
            "text/plain": [
              "0    308.204939\n",
              "1     53.409855\n",
              "2    223.192822\n",
              "3    269.719085\n",
              "4    252.199545\n",
              "Name: d, dtype: float64"
            ]
          },
          "metadata": {
            "tags": []
          },
          "execution_count": 53
        }
      ]
    },
    {
      "cell_type": "code",
      "metadata": {
        "colab": {
          "base_uri": "https://localhost:8080/",
          "height": 204
        },
        "id": "UP3Uv3TlMh-M",
        "outputId": "3e5d550a-f3eb-41e6-f1ea-ba19a51b0dfb"
      },
      "source": [
        "data.head()"
      ],
      "execution_count": 54,
      "outputs": [
        {
          "output_type": "execute_result",
          "data": {
            "text/html": [
              "<div>\n",
              "<style scoped>\n",
              "    .dataframe tbody tr th:only-of-type {\n",
              "        vertical-align: middle;\n",
              "    }\n",
              "\n",
              "    .dataframe tbody tr th {\n",
              "        vertical-align: top;\n",
              "    }\n",
              "\n",
              "    .dataframe thead th {\n",
              "        text-align: right;\n",
              "    }\n",
              "</style>\n",
              "<table border=\"1\" class=\"dataframe\">\n",
              "  <thead>\n",
              "    <tr style=\"text-align: right;\">\n",
              "      <th></th>\n",
              "      <th>a</th>\n",
              "      <th>c</th>\n",
              "      <th>d</th>\n",
              "      <th>b</th>\n",
              "    </tr>\n",
              "  </thead>\n",
              "  <tbody>\n",
              "    <tr>\n",
              "      <th>0</th>\n",
              "      <td>0</td>\n",
              "      <td>4</td>\n",
              "      <td>308.204939</td>\n",
              "      <td>-5.724879</td>\n",
              "    </tr>\n",
              "    <tr>\n",
              "      <th>1</th>\n",
              "      <td>1</td>\n",
              "      <td>40</td>\n",
              "      <td>53.409855</td>\n",
              "      <td>-0.116496</td>\n",
              "    </tr>\n",
              "    <tr>\n",
              "      <th>2</th>\n",
              "      <td>2</td>\n",
              "      <td>36</td>\n",
              "      <td>223.192822</td>\n",
              "      <td>15.613816</td>\n",
              "    </tr>\n",
              "    <tr>\n",
              "      <th>3</th>\n",
              "      <td>3</td>\n",
              "      <td>26</td>\n",
              "      <td>269.719085</td>\n",
              "      <td>-2.687731</td>\n",
              "    </tr>\n",
              "    <tr>\n",
              "      <th>4</th>\n",
              "      <td>4</td>\n",
              "      <td>39</td>\n",
              "      <td>252.199545</td>\n",
              "      <td>-2.714741</td>\n",
              "    </tr>\n",
              "  </tbody>\n",
              "</table>\n",
              "</div>"
            ],
            "text/plain": [
              "   a   c           d          b\n",
              "0  0   4  308.204939  -5.724879\n",
              "1  1  40   53.409855  -0.116496\n",
              "2  2  36  223.192822  15.613816\n",
              "3  3  26  269.719085  -2.687731\n",
              "4  4  39  252.199545  -2.714741"
            ]
          },
          "metadata": {
            "tags": []
          },
          "execution_count": 54
        }
      ]
    },
    {
      "cell_type": "markdown",
      "metadata": {
        "id": "vyvTqy3jMh-M"
      },
      "source": [
        "**Plota gráfico de disperssão usando pandas dataframe**"
      ]
    },
    {
      "cell_type": "code",
      "metadata": {
        "colab": {
          "base_uri": "https://localhost:8080/",
          "height": 282
        },
        "id": "v4rdlHi3Td3y",
        "outputId": "1a75e359-934e-4a27-fbcf-4a184f3f7cd8"
      },
      "source": [
        "plt.scatter('a', 'b', c='c', s='d', data=data)\n",
        "plt.xlabel('entry a')\n",
        "plt.ylabel('entry b')\n",
        "plt.show()"
      ],
      "execution_count": 55,
      "outputs": [
        {
          "output_type": "display_data",
          "data": {
            "image/png": "[encoded data removed]",
            "text/plain": [
              "<Figure size 432x288 with 1 Axes>"
            ]
          },
          "metadata": {
            "tags": [],
            "needs_background": "light"
          }
        }
      ]
    }
  ]
}